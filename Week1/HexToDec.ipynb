{
 "cells": [
  {
   "cell_type": "code",
   "execution_count": 36,
   "id": "77986240-7340-4390-89b4-cc4d8aadd0c7",
   "metadata": {},
   "outputs": [],
   "source": [
    "hexNumbers = {\n",
    "    '0': 0, '1': 1, '2': 2, '3': 3, '4': 4, '5': 5, '6':6, '7': 7, '8':8, '9':9,\n",
    "    'A': 10, 'B': 11, 'C': 12, 'D': 13, 'E':14, 'F': 15}\n",
    "\n",
    "def hexToDec(hexNum):\n",
    "    for char in hexNum:\n",
    "        if char not in hexNumbers:\n",
    "            return None\n",
    "\n",
    "    if len(hexNum) ==3:\n",
    "        return hexNumbers[hexNum[0]] * 256 + hexNumbers[hexNum[i]] * 16 + hexNumbers\n",
    "\n",
    "hexToDec('A')"
   ]
  },
  {
   "cell_type": "code",
   "execution_count": null,
   "id": "fb5a8c5a-a320-4004-8024-ea2848c12335",
   "metadata": {},
   "outputs": [],
   "source": []
  },
  {
   "cell_type": "code",
   "execution_count": null,
   "id": "36d7afbe-8e08-43d0-b4af-bd3e034a7f4a",
   "metadata": {},
   "outputs": [],
   "source": []
  }
 ],
 "metadata": {
  "kernelspec": {
   "display_name": "Python 3 (ipykernel)",
   "language": "python",
   "name": "python3"
  },
  "language_info": {
   "codemirror_mode": {
    "name": "ipython",
    "version": 3
   },
   "file_extension": ".py",
   "mimetype": "text/x-python",
   "name": "python",
   "nbconvert_exporter": "python",
   "pygments_lexer": "ipython3",
   "version": "3.12.2"
  }
 },
 "nbformat": 4,
 "nbformat_minor": 5
}
