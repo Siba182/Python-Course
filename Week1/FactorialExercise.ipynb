{
 "cells": [
  {
   "cell_type": "code",
   "execution_count": 32,
   "id": "d12c0d0d-6c53-4953-8382-bd2b52fd7202",
   "metadata": {},
   "outputs": [
    {
     "data": {
      "text/plain": [
       "1"
      ]
     },
     "execution_count": 32,
     "metadata": {},
     "output_type": "execute_result"
    }
   ],
   "source": [
    "def factorial (num):\n",
    "    if type(num) is not int:\n",
    "     return None\n",
    "    if num < 0:\n",
    "        return None\n",
    "    if num == 0:\n",
    "        return 1 \n",
    " \n",
    "\n",
    "factorial(0)"
   ]
  },
  {
   "cell_type": "code",
   "execution_count": 76,
   "id": "c4885248-12b6-4dba-b8b7-e53adb22095a",
   "metadata": {},
   "outputs": [
    {
     "data": {
      "text/plain": [
       "120"
      ]
     },
     "execution_count": 76,
     "metadata": {},
     "output_type": "execute_result"
    }
   ],
   "source": [
    "def factorial (num):\n",
    "    if type (num) is not int:\n",
    "        return None\n",
    "    if num < 0:\n",
    "       return None\n",
    "    if num == 0:\n",
    "        return 1\n",
    "\n",
    "\n",
    "    return num * factorial(num - 1)  \n",
    "\n",
    "     \n",
    "factorial (5)\n",
    " \n"
   ]
  },
  {
   "cell_type": "code",
   "execution_count": 78,
   "id": "9d919f51-85f6-4a7f-b7ac-a355158d76b7",
   "metadata": {},
   "outputs": [
    {
     "data": {
      "text/plain": [
       "720"
      ]
     },
     "execution_count": 78,
     "metadata": {},
     "output_type": "execute_result"
    }
   ],
   "source": [
    "def factorial (num):\n",
    "    if type (num) is not int:\n",
    "        return None\n",
    "    if num < 0:\n",
    "       return None\n",
    "    if num == 0:\n",
    "        return 1\n",
    "\n",
    "\n",
    "    return num * factorial(num - 1)  \n",
    "\n",
    "     \n",
    "factorial (6)"
   ]
  },
  {
   "cell_type": "code",
   "execution_count": 79,
   "id": "1adc98e3-d938-473e-b970-d1082a3afbf7",
   "metadata": {},
   "outputs": [],
   "source": [
    "def factorial (num):\n",
    "    if type (num) is not int:\n",
    "        return None\n",
    "    if num < 0:\n",
    "       return None\n",
    "    if num == 0:\n",
    "        return 1\n",
    "\n",
    "\n",
    "    return num * factorial(num - 1)  \n",
    "\n",
    "     \n",
    "factorial (-2)"
   ]
  },
  {
   "cell_type": "code",
   "execution_count": 80,
   "id": "0c85f3d7-66e2-4be6-a8cd-0aa21b4a1256",
   "metadata": {},
   "outputs": [],
   "source": [
    "def factorial (num):\n",
    "    if type (num) is not int:\n",
    "        return None\n",
    "    if num < 0:\n",
    "       return None\n",
    "    if num == 0:\n",
    "        return 1\n",
    "\n",
    "\n",
    "    return num * factorial(num - 1)  \n",
    "\n",
    "     \n",
    "factorial (1.2)"
   ]
  },
  {
   "cell_type": "code",
   "execution_count": null,
   "id": "f10f24c0-d7e0-4e6f-a05f-357566b16468",
   "metadata": {},
   "outputs": [],
   "source": [
    "def factorial (num):\n",
    "    if type (num) is not int:\n",
    "        return None\n",
    "    if num < 0:\n",
    "       return None\n",
    "    if num == 0:\n",
    "        return 1\n",
    "\n",
    "\n",
    "    return num * factorial(num - 1)  \n",
    "\n",
    "     \n",
    "factorial ('spam spam spam')"
   ]
  }
 ],
 "metadata": {
  "kernelspec": {
   "display_name": "Python 3 (ipykernel)",
   "language": "python",
   "name": "python3"
  },
  "language_info": {
   "codemirror_mode": {
    "name": "ipython",
    "version": 3
   },
   "file_extension": ".py",
   "mimetype": "text/x-python",
   "name": "python",
   "nbconvert_exporter": "python",
   "pygments_lexer": "ipython3",
   "version": "3.12.2"
  }
 },
 "nbformat": 4,
 "nbformat_minor": 5
}
