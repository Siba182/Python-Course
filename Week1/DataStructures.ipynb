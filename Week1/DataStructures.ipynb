{
 "cells": [
  {
   "cell_type": "code",
   "execution_count": 1,
   "id": "b44035a7-f9d2-4c5f-94db-dc5a500d091c",
   "metadata": {},
   "outputs": [
    {
     "name": "stdout",
     "output_type": "stream",
     "text": [
      "[1, 2, 'Siba', 4]\n"
     ]
    }
   ],
   "source": [
    "myList = [1, 2, 'Siba', 4]\n",
    "print(myList)"
   ]
  },
  {
   "cell_type": "code",
   "execution_count": 2,
   "id": "2a13f3d9-87d9-4222-ae66-c9de2afc169b",
   "metadata": {},
   "outputs": [],
   "source": [
    "myList = ['list', 'of', 'earings']"
   ]
  },
  {
   "cell_type": "code",
   "execution_count": 8,
   "id": "0ea0cce0-50a4-4e43-8997-1a712f0a3e6e",
   "metadata": {},
   "outputs": [],
   "source": [
    "myList = [1, 'list', False]"
   ]
  },
  {
   "cell_type": "code",
   "execution_count": 9,
   "id": "28292267-64db-4d34-ace5-c3715016d1d4",
   "metadata": {},
   "outputs": [
    {
     "name": "stdout",
     "output_type": "stream",
     "text": [
      "[1, 2, [False, True], []]\n"
     ]
    }
   ],
   "source": [
    "#list in a list\n",
    "myList = [1,2, [False, True], []]\n",
    "print(myList)"
   ]
  },
  {
   "cell_type": "code",
   "execution_count": 10,
   "id": "46d0a229-a002-4bf4-ad00-63f2937656eb",
   "metadata": {},
   "outputs": [
    {
     "name": "stdout",
     "output_type": "stream",
     "text": [
      "4\n"
     ]
    }
   ],
   "source": [
    "#legnth of a list\n",
    "myList = [1,2, [False, True], []]\n",
    "print (len(myList))"
   ]
  },
  {
   "cell_type": "code",
   "execution_count": 5,
   "id": "ab5d4546-8ed1-4dd1-b2dd-7c926e4ac6bc",
   "metadata": {},
   "outputs": [
    {
     "name": "stdout",
     "output_type": "stream",
     "text": [
      "{1, 2, 3, 4, 5}\n"
     ]
    }
   ],
   "source": [
    "mySet = {1, 2, 3, 4, 5}\n",
    "print(mySet)"
   ]
  },
  {
   "cell_type": "code",
   "execution_count": 6,
   "id": "40a6e91e-b1a7-4035-ae0f-9381ea5843ac",
   "metadata": {},
   "outputs": [
    {
     "name": "stdout",
     "output_type": "stream",
     "text": [
      "{False, 1, 2, 3.4, 4, 'Siba'}\n"
     ]
    }
   ],
   "source": [
    "mySet = {1, 2, False, 4, 'Siba', 3.4}\n",
    "print(mySet)"
   ]
  },
  {
   "cell_type": "code",
   "execution_count": null,
   "id": "1523da49-1f72-468a-8384-31a02b13daf8",
   "metadata": {},
   "outputs": [],
   "source": []
  }
 ],
 "metadata": {
  "kernelspec": {
   "display_name": "Python 3 (ipykernel)",
   "language": "python",
   "name": "python3"
  },
  "language_info": {
   "codemirror_mode": {
    "name": "ipython",
    "version": 3
   },
   "file_extension": ".py",
   "mimetype": "text/x-python",
   "name": "python",
   "nbconvert_exporter": "python",
   "pygments_lexer": "ipython3",
   "version": "3.12.2"
  }
 },
 "nbformat": 4,
 "nbformat_minor": 5
}
