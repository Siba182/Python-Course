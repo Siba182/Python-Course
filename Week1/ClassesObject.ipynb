{
 "cells": [
  {
   "cell_type": "code",
   "execution_count": 8,
   "id": "49e2ab38-19a8-48c5-9d1a-5722bc490135",
   "metadata": {},
   "outputs": [],
   "source": [
    "class Dog:\n",
    "    def __init__(self, name):\n",
    "        self.name = name\n",
    "        self.legs = 4\n",
    "\n",
    "    def speak(self):\n",
    "        print(self.name + ' says: Bark!')"
   ]
  },
  {
   "cell_type": "code",
   "execution_count": 9,
   "id": "be692d5a-7435-44e3-85a4-86560395df0d",
   "metadata": {},
   "outputs": [],
   "source": [
    "myDog = Dog ('Rover')\n",
    "anotherDog = Dog ('Fluffy')\n"
   ]
  },
  {
   "cell_type": "code",
   "execution_count": 10,
   "id": "1ae0ce8a-cc46-4de3-bb40-18d7dc4bbce7",
   "metadata": {},
   "outputs": [
    {
     "name": "stdout",
     "output_type": "stream",
     "text": [
      "Rover says: Bark!\n"
     ]
    }
   ],
   "source": [
    "myDog.speak()"
   ]
  },
  {
   "cell_type": "code",
   "execution_count": 11,
   "id": "638d2c8e-c0c3-4e29-93fe-b130ba776df4",
   "metadata": {},
   "outputs": [
    {
     "name": "stdout",
     "output_type": "stream",
     "text": [
      "Fluffy says: Bark!\n"
     ]
    }
   ],
   "source": [
    "anotherDog.speak()"
   ]
  },
  {
   "cell_type": "code",
   "execution_count": null,
   "id": "54798472-21ff-44f0-9d4c-8387739f7259",
   "metadata": {},
   "outputs": [],
   "source": []
  },
  {
   "cell_type": "code",
   "execution_count": null,
   "id": "998c9bba-0e58-4c84-a07e-86b315d1a4d1",
   "metadata": {},
   "outputs": [],
   "source": []
  }
 ],
 "metadata": {
  "kernelspec": {
   "display_name": "Python 3 (ipykernel)",
   "language": "python",
   "name": "python3"
  },
  "language_info": {
   "codemirror_mode": {
    "name": "ipython",
    "version": 3
   },
   "file_extension": ".py",
   "mimetype": "text/x-python",
   "name": "python",
   "nbconvert_exporter": "python",
   "pygments_lexer": "ipython3",
   "version": "3.12.2"
  }
 },
 "nbformat": 4,
 "nbformat_minor": 5
}
