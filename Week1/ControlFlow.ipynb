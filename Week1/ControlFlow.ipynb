{
 "cells": [
  {
   "cell_type": "code",
   "execution_count": 3,
   "id": "39753715-39cd-4c9f-a258-9c693dd5f2b3",
   "metadata": {},
   "outputs": [
    {
     "name": "stdout",
     "output_type": "stream",
     "text": [
      "It is true\n",
      "Also print this\n",
      "Always print this\n"
     ]
    }
   ],
   "source": [
    "#if else\n",
    "\n",
    "a = True\n",
    "if a:\n",
    "     print('It is true')\n",
    "     print('Also print this')\n",
    "else:\n",
    "    print('It is false')\n",
    "print('Always print this')"
   ]
  },
  {
   "cell_type": "code",
   "execution_count": 4,
   "id": "58cd2488-6bf7-4f5b-9df3-dbe2f9a3e23f",
   "metadata": {},
   "outputs": [
    {
     "name": "stdout",
     "output_type": "stream",
     "text": [
      "1\n",
      "2\n",
      "3\n",
      "4\n",
      "5\n"
     ]
    }
   ],
   "source": [
    "# for loops\n",
    "\n",
    "a = [ 1, 2, 3, 4, 5,]\n",
    "for number in a:\n",
    "    print(number)"
   ]
  },
  {
   "cell_type": "code",
   "execution_count": null,
   "id": "9099bd06-f6fe-4cf5-9d1c-5132dc24a3ef",
   "metadata": {},
   "outputs": [],
   "source": []
  }
 ],
 "metadata": {
  "kernelspec": {
   "display_name": "Python 3 (ipykernel)",
   "language": "python",
   "name": "python3"
  },
  "language_info": {
   "codemirror_mode": {
    "name": "ipython",
    "version": 3
   },
   "file_extension": ".py",
   "mimetype": "text/x-python",
   "name": "python",
   "nbconvert_exporter": "python",
   "pygments_lexer": "ipython3",
   "version": "3.12.2"
  }
 },
 "nbformat": 4,
 "nbformat_minor": 5
}
