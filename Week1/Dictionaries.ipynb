{
 "cells": [
  {
   "cell_type": "code",
   "execution_count": 39,
   "id": "5629c49d-4f30-4bcb-bb5b-e807ed0ed032",
   "metadata": {},
   "outputs": [
    {
     "data": {
      "text/plain": [
       "'Washington D.C'"
      ]
     },
     "execution_count": 39,
     "metadata": {},
     "output_type": "execute_result"
    }
   ],
   "source": [
    "capitals = { 'USA': 'Washington D.C',\n",
    "             'India': 'New Delhi',\n",
    "             'China': 'Beijing',\n",
    "             'Russia': 'Moscow'\n",
    "           }\n",
    "\n",
    "capitals['USA']"
   ]
  },
  {
   "cell_type": "code",
   "execution_count": null,
   "id": "661f161c-ab26-4c30-a592-26477de04e74",
   "metadata": {},
   "outputs": [],
   "source": []
  },
  {
   "cell_type": "code",
   "execution_count": 45,
   "id": "750eef76-cec7-4118-b67e-7b37cf0c95de",
   "metadata": {},
   "outputs": [],
   "source": [
    "#add new key\n",
    "\n",
    "capitals['Canada'] = 'Toronto'"
   ]
  },
  {
   "cell_type": "code",
   "execution_count": 49,
   "id": "c8130a30-e953-4556-8e28-4c4dc1c5a74d",
   "metadata": {},
   "outputs": [
    {
     "data": {
      "text/plain": [
       "{'USA': 'Washington D.C',\n",
       " 'India': 'New Delhi',\n",
       " 'China': 'Beijing',\n",
       " 'Russia': 'Moscow',\n",
       " 'SA': 'CPT',\n",
       " 'Canada': 'Toronto'}"
      ]
     },
     "execution_count": 49,
     "metadata": {},
     "output_type": "execute_result"
    }
   ],
   "source": [
    "capitals"
   ]
  },
  {
   "cell_type": "code",
   "execution_count": 48,
   "id": "2218dcd8-e1d0-47ce-8445-3445ec15e71a",
   "metadata": {},
   "outputs": [],
   "source": [
    "#update\n",
    "capitals['SA'] = 'CPT'"
   ]
  },
  {
   "cell_type": "code",
   "execution_count": 50,
   "id": "d399ec99-12c7-4574-969f-7c86f616dba0",
   "metadata": {},
   "outputs": [
    {
     "data": {
      "text/plain": [
       "dict_keys(['USA', 'India', 'China', 'Russia', 'SA', 'Canada'])"
      ]
     },
     "execution_count": 50,
     "metadata": {},
     "output_type": "execute_result"
    }
   ],
   "source": [
    "capitals.keys()"
   ]
  },
  {
   "cell_type": "code",
   "execution_count": 54,
   "id": "fc717e4f-42a9-4c9f-9a16-dea87b8e9c8d",
   "metadata": {},
   "outputs": [
    {
     "data": {
      "text/plain": [
       "[]"
      ]
     },
     "execution_count": 54,
     "metadata": {},
     "output_type": "execute_result"
    }
   ],
   "source": [
    "#defaultdict\n",
    "from collections import defaultdict\n",
    "\n",
    "capitals = defaultdict(list)\n",
    "\n",
    "capitals['Japan']\n",
    "\n"
   ]
  },
  {
   "cell_type": "code",
   "execution_count": null,
   "id": "82cde25f-1645-4172-b263-bb0914016a78",
   "metadata": {},
   "outputs": [],
   "source": []
  }
 ],
 "metadata": {
  "kernelspec": {
   "display_name": "Python 3 (ipykernel)",
   "language": "python",
   "name": "python3"
  },
  "language_info": {
   "codemirror_mode": {
    "name": "ipython",
    "version": 3
   },
   "file_extension": ".py",
   "mimetype": "text/x-python",
   "name": "python",
   "nbconvert_exporter": "python",
   "pygments_lexer": "ipython3",
   "version": "3.12.2"
  }
 },
 "nbformat": 4,
 "nbformat_minor": 5
}
