{
 "cells": [
  {
   "cell_type": "code",
   "execution_count": 2,
   "id": "76bdb0bb-501c-4257-b496-4747fe987364",
   "metadata": {},
   "outputs": [
    {
     "name": "stdout",
     "output_type": "stream",
     "text": [
      "1\n",
      "{'num1': 1, 'num2': 2, 'operation': 'multiply'}\n"
     ]
    }
   ],
   "source": [
    "# local varibale outside scope\n",
    "\n",
    "def performOperation(num1, num2, operation = 'sum'):\n",
    "    \n",
    "    print(locals())\n",
    "\n",
    "performOperation(1, 2, operation = 'multiply')\n",
    "print(num1) # outside the function and will cause an error "
   ]
  },
  {
   "cell_type": "code",
   "execution_count": 5,
   "id": "554df892-66b1-45d1-a4cd-b64fb5895206",
   "metadata": {},
   "outputs": [
    {
     "data": {
      "text/plain": [
       "{'__name__': '__main__',\n",
       " '__doc__': 'Automatically created module for IPython interactive environment',\n",
       " '__package__': None,\n",
       " '__loader__': None,\n",
       " '__spec__': None,\n",
       " '__builtin__': <module 'builtins' (built-in)>,\n",
       " '__builtins__': <module 'builtins' (built-in)>,\n",
       " '_ih': ['',\n",
       "  \"# local varibale outside scope\\n\\ndef performOperation(num1, num2, operation = 'sum'):\\n    print(locals())\\n\\nperformOperation(1, 2, operation = 'multiply')\\nprint(num1)\",\n",
       "  \"# local varibale outside scope\\n\\ndef performOperation(num1, num2, operation = 'sum'):\\n    print(num1)\\n    print(locals())\\n\\nperformOperation(1, 2, operation = 'multiply')\",\n",
       "  'global())',\n",
       "  'global()',\n",
       "  'globals()'],\n",
       " '_oh': {},\n",
       " '_dh': [WindowsPath('C:/Users/Sibabalwe.Mngxuma/Python/Python-Course/Week2')],\n",
       " 'In': ['',\n",
       "  \"# local varibale outside scope\\n\\ndef performOperation(num1, num2, operation = 'sum'):\\n    print(locals())\\n\\nperformOperation(1, 2, operation = 'multiply')\\nprint(num1)\",\n",
       "  \"# local varibale outside scope\\n\\ndef performOperation(num1, num2, operation = 'sum'):\\n    print(num1)\\n    print(locals())\\n\\nperformOperation(1, 2, operation = 'multiply')\",\n",
       "  'global())',\n",
       "  'global()',\n",
       "  'globals()'],\n",
       " 'Out': {},\n",
       " 'get_ipython': <bound method InteractiveShell.get_ipython of <ipykernel.zmqshell.ZMQInteractiveShell object at 0x0000016C4764CC80>>,\n",
       " 'exit': <IPython.core.autocall.ZMQExitAutocall at 0x16c4764d310>,\n",
       " 'quit': <IPython.core.autocall.ZMQExitAutocall at 0x16c4764d310>,\n",
       " 'open': <function _io.open(file, mode='r', buffering=-1, encoding=None, errors=None, newline=None, closefd=True, opener=None)>,\n",
       " '_': '',\n",
       " '__': '',\n",
       " '___': '',\n",
       " '__session__': 'C:\\\\Users\\\\Sibabalwe.Mngxuma\\\\Python\\\\Python-Course\\\\Week2\\\\Untitled.ipynb',\n",
       " '_i': 'global()',\n",
       " '_ii': 'global())',\n",
       " '_iii': \"# local varibale outside scope\\n\\ndef performOperation(num1, num2, operation = 'sum'):\\n    print(num1)\\n    print(locals())\\n\\nperformOperation(1, 2, operation = 'multiply')\",\n",
       " '_i1': \"# local varibale outside scope\\n\\ndef performOperation(num1, num2, operation = 'sum'):\\n    print(locals())\\n\\nperformOperation(1, 2, operation = 'multiply')\\nprint(num1)\",\n",
       " 'performOperation': <function __main__.performOperation(num1, num2, operation='sum')>,\n",
       " '_i2': \"# local varibale outside scope\\n\\ndef performOperation(num1, num2, operation = 'sum'):\\n    print(num1)\\n    print(locals())\\n\\nperformOperation(1, 2, operation = 'multiply')\",\n",
       " '_i3': 'global())',\n",
       " '_i4': 'global()',\n",
       " '_i5': 'globals()'}"
      ]
     },
     "execution_count": 5,
     "metadata": {},
     "output_type": "execute_result"
    }
   ],
   "source": [
    "globals()"
   ]
  },
  {
   "cell_type": "code",
   "execution_count": 7,
   "id": "fd0b4cd0-e7a5-4011-9a26-6dfbb66bd704",
   "metadata": {},
   "outputs": [
    {
     "name": "stdout",
     "output_type": "stream",
     "text": [
      "Some global data\n",
      "{'varA': 1, 'varB': 2}\n",
      "Some global data\n",
      "{'varC': 3, 'varD': 4}\n"
     ]
    }
   ],
   "source": [
    "#Global and Local scope\n",
    "\n",
    "message = 'Some global data'\n",
    "\n",
    "def function1( varA, varB):\n",
    "    print (message)\n",
    "    print(locals())\n",
    "\n",
    "def function2(varC, varD):\n",
    "    print (message)\n",
    "    print(locals())\n",
    "\n",
    "function1(1, 2)\n",
    "function2(3, 4)"
   ]
  },
  {
   "cell_type": "code",
   "execution_count": 9,
   "id": "17728906-cf39-45f2-a58d-44d3cd6a9a0b",
   "metadata": {},
   "outputs": [
    {
     "name": "stdout",
     "output_type": "stream",
     "text": [
      "1\n",
      "Some local data\n",
      "{'varA': 1, 'varB': 2, 'message': 'Some local data'}\n",
      "2\n",
      "Some global data\n",
      "{'varC': 3, 'varD': 4}\n"
     ]
    }
   ],
   "source": [
    "#accessing local data globally\n",
    "\n",
    "message = 'Some global data'\n",
    "varA = 2\n",
    "\n",
    "def function1( varA, varB):\n",
    "    message = 'Some local data'\n",
    "    print(varA)\n",
    "    print(message)\n",
    "    print(locals())\n",
    "\n",
    "def function2(varC, varD):\n",
    "    print(varA)\n",
    "    print(message)\n",
    "    print(locals())\n",
    "\n",
    "function1(1, 2)\n",
    "function2(3, 4)"
   ]
  },
  {
   "cell_type": "code",
   "execution_count": null,
   "id": "9ed3063d-9a4e-488f-b0f4-cbac575c4ed2",
   "metadata": {},
   "outputs": [],
   "source": []
  }
 ],
 "metadata": {
  "kernelspec": {
   "display_name": "Python 3 (ipykernel)",
   "language": "python",
   "name": "python3"
  },
  "language_info": {
   "codemirror_mode": {
    "name": "ipython",
    "version": 3
   },
   "file_extension": ".py",
   "mimetype": "text/x-python",
   "name": "python",
   "nbconvert_exporter": "python",
   "pygments_lexer": "ipython3",
   "version": "3.12.2"
  }
 },
 "nbformat": 4,
 "nbformat_minor": 5
}
