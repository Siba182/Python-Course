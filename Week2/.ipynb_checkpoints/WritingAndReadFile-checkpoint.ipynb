{
 "cells": [
  {
   "cell_type": "code",
   "execution_count": 25,
   "id": "51ad7db7-e238-401b-9672-fb4d005f99e2",
   "metadata": {},
   "outputs": [
    {
     "name": "stdout",
     "output_type": "stream",
     "text": [
      "<_io.TextIOWrapper name='siba_.txt' mode='w' encoding='cp1252'>\n"
     ]
    }
   ],
   "source": [
    "#reading file\n",
    "\n",
    "f = open('siba_.txt', 'w')\n",
    "print(f)"
   ]
  },
  {
   "cell_type": "code",
   "execution_count": 26,
   "id": "9858d970-e9d0-48c2-9a46-0bb2860c4e81",
   "metadata": {},
   "outputs": [
    {
     "data": {
      "text/plain": [
       "7"
      ]
     },
     "execution_count": 26,
     "metadata": {},
     "output_type": "execute_result"
    }
   ],
   "source": [
    "f.write('Sibabalwe \\n')\n",
    "f.write('Mngxuma')"
   ]
  },
  {
   "cell_type": "code",
   "execution_count": 27,
   "id": "8e91f619-460b-4649-a48e-e8fe52370002",
   "metadata": {},
   "outputs": [],
   "source": [
    "f.close()"
   ]
  },
  {
   "cell_type": "code",
   "execution_count": 28,
   "id": "c9e1b485-8b62-471f-bbd2-a548d381c85b",
   "metadata": {},
   "outputs": [
    {
     "name": "stdout",
     "output_type": "stream",
     "text": [
      "<_io.TextIOWrapper name='siba_.txt' mode='r' encoding='cp1252'>\n"
     ]
    }
   ],
   "source": [
    "\n",
    "f = open('siba_.txt', 'r')\n",
    "print(f)"
   ]
  },
  {
   "cell_type": "code",
   "execution_count": 29,
   "id": "71bda5d5-cdad-47f4-814b-00933935c172",
   "metadata": {},
   "outputs": [
    {
     "data": {
      "text/plain": [
       "['Sibabalwe \\n', 'Mngxuma']"
      ]
     },
     "execution_count": 29,
     "metadata": {},
     "output_type": "execute_result"
    }
   ],
   "source": [
    "f.readlines()"
   ]
  },
  {
   "cell_type": "code",
   "execution_count": null,
   "id": "18b3163a-83da-4533-a795-b82390309355",
   "metadata": {},
   "outputs": [],
   "source": []
  }
 ],
 "metadata": {
  "kernelspec": {
   "display_name": "Python 3 (ipykernel)",
   "language": "python",
   "name": "python3"
  },
  "language_info": {
   "codemirror_mode": {
    "name": "ipython",
    "version": 3
   },
   "file_extension": ".py",
   "mimetype": "text/x-python",
   "name": "python",
   "nbconvert_exporter": "python",
   "pygments_lexer": "ipython3",
   "version": "3.12.2"
  }
 },
 "nbformat": 4,
 "nbformat_minor": 5
}
